{
 "cells": [
  {
   "cell_type": "code",
   "execution_count": 32,
   "metadata": {
    "collapsed": true
   },
   "outputs": [],
   "source": [
    "import requests\n",
    "import pandas as pd\n",
    "from sklearn.ensemble import RandomForestClassifier\n",
    "from sklearn.externals import joblib\n",
    "from scipy import fft, arange\n",
    "import json\n",
    "import pyrebase"
   ]
  },
  {
   "cell_type": "code",
   "execution_count": 33,
   "metadata": {},
   "outputs": [],
   "source": [
    "config = json.load(open('./private/config.json'))\n",
    "\n",
    "firebase = pyrebase.initialize_app(config)\n",
    "db = firebase.database()\n",
    "\n",
    "\n",
    "def pushtoDB(payload):\n",
    "\tpayloadKey = list(payload)[0]\n",
    "\tdata = payload[payloadKey] \n",
    "\tdb.child(payloadKey).set(data)\n",
    "\treturn  json.dumps({\"success\": 1})\n",
    "\n",
    "def getDB():\n",
    "\treturn db.get().val()\n",
    "\n",
    "def deleteAll():\n",
    "\tdb.set({})\n",
    "\treturn json.dumps({\"success\": 1})"
   ]
  },
  {
   "cell_type": "code",
   "execution_count": 132,
   "metadata": {
    "collapsed": true
   },
   "outputs": [],
   "source": []
  },
  {
   "cell_type": "code",
   "execution_count": 138,
   "metadata": {},
   "outputs": [],
   "source": [
    "r = getDB()\n",
    "r = r['data']\n",
    "df =pd.DataFrame()\n",
    "y=[]\n",
    "for key in r:\n",
    "    y.append(r[key]['prediction'])\n",
    "    x = []\n",
    "    for sample in r[key]['datapoints']:\n",
    "        x.append(sample['ax'])\n",
    "        x.append(sample['ay'])\n",
    "        x.append(sample['az'])\n",
    "        x.append(sample['gx'])\n",
    "        x.append(sample['gy'])\n",
    "        x.append(sample['gz'])\n",
    "    df=pd.concat([df,pd.DataFrame(x).transpose()])\n",
    "\n",
    "df.reset_index(drop=True, inplace=True)   \n",
    "# take only first 20 columns\n"
   ]
  },
  {
   "cell_type": "code",
   "execution_count": 139,
   "metadata": {},
   "outputs": [
    {
     "data": {
      "text/html": [
       "<div>\n",
       "<style>\n",
       "    .dataframe thead tr:only-child th {\n",
       "        text-align: right;\n",
       "    }\n",
       "\n",
       "    .dataframe thead th {\n",
       "        text-align: left;\n",
       "    }\n",
       "\n",
       "    .dataframe tbody tr th {\n",
       "        vertical-align: top;\n",
       "    }\n",
       "</style>\n",
       "<table border=\"1\" class=\"dataframe\">\n",
       "  <thead>\n",
       "    <tr style=\"text-align: right;\">\n",
       "      <th></th>\n",
       "      <th>0</th>\n",
       "      <th>1</th>\n",
       "      <th>2</th>\n",
       "      <th>3</th>\n",
       "      <th>4</th>\n",
       "      <th>5</th>\n",
       "      <th>6</th>\n",
       "      <th>7</th>\n",
       "      <th>8</th>\n",
       "      <th>9</th>\n",
       "      <th>...</th>\n",
       "      <th>146</th>\n",
       "      <th>147</th>\n",
       "      <th>148</th>\n",
       "      <th>149</th>\n",
       "      <th>150</th>\n",
       "      <th>151</th>\n",
       "      <th>152</th>\n",
       "      <th>153</th>\n",
       "      <th>154</th>\n",
       "      <th>155</th>\n",
       "    </tr>\n",
       "  </thead>\n",
       "  <tbody>\n",
       "    <tr>\n",
       "      <th>0</th>\n",
       "      <td>-0.187653</td>\n",
       "      <td>-0.442123</td>\n",
       "      <td>-0.913757</td>\n",
       "      <td>-0.004095</td>\n",
       "      <td>0.056422</td>\n",
       "      <td>-0.102299</td>\n",
       "      <td>-0.184677</td>\n",
       "      <td>-0.441376</td>\n",
       "      <td>-0.881760</td>\n",
       "      <td>0.016712</td>\n",
       "      <td>...</td>\n",
       "      <td>NaN</td>\n",
       "      <td>NaN</td>\n",
       "      <td>NaN</td>\n",
       "      <td>NaN</td>\n",
       "      <td>NaN</td>\n",
       "      <td>NaN</td>\n",
       "      <td>NaN</td>\n",
       "      <td>NaN</td>\n",
       "      <td>NaN</td>\n",
       "      <td>NaN</td>\n",
       "    </tr>\n",
       "    <tr>\n",
       "      <th>0</th>\n",
       "      <td>-0.237640</td>\n",
       "      <td>-0.437119</td>\n",
       "      <td>-0.826218</td>\n",
       "      <td>0.072740</td>\n",
       "      <td>0.054652</td>\n",
       "      <td>-0.337765</td>\n",
       "      <td>-0.240402</td>\n",
       "      <td>-0.466385</td>\n",
       "      <td>-0.885071</td>\n",
       "      <td>-0.331343</td>\n",
       "      <td>...</td>\n",
       "      <td>NaN</td>\n",
       "      <td>NaN</td>\n",
       "      <td>NaN</td>\n",
       "      <td>NaN</td>\n",
       "      <td>NaN</td>\n",
       "      <td>NaN</td>\n",
       "      <td>NaN</td>\n",
       "      <td>NaN</td>\n",
       "      <td>NaN</td>\n",
       "      <td>NaN</td>\n",
       "    </tr>\n",
       "    <tr>\n",
       "      <th>0</th>\n",
       "      <td>-0.261078</td>\n",
       "      <td>-0.295898</td>\n",
       "      <td>-0.926620</td>\n",
       "      <td>-0.136804</td>\n",
       "      <td>0.444283</td>\n",
       "      <td>0.001758</td>\n",
       "      <td>-0.219223</td>\n",
       "      <td>-0.280670</td>\n",
       "      <td>-0.942078</td>\n",
       "      <td>-0.093190</td>\n",
       "      <td>...</td>\n",
       "      <td>-0.953079</td>\n",
       "      <td>-0.011912</td>\n",
       "      <td>-0.056439</td>\n",
       "      <td>0.025329</td>\n",
       "      <td>-0.121628</td>\n",
       "      <td>-0.241913</td>\n",
       "      <td>-0.989105</td>\n",
       "      <td>-0.351775</td>\n",
       "      <td>-0.126696</td>\n",
       "      <td>0.013837</td>\n",
       "    </tr>\n",
       "  </tbody>\n",
       "</table>\n",
       "<p>3 rows × 156 columns</p>\n",
       "</div>"
      ],
      "text/plain": [
       "        0         1         2         3         4         5         6    \\\n",
       "0 -0.187653 -0.442123 -0.913757 -0.004095  0.056422 -0.102299 -0.184677   \n",
       "0 -0.237640 -0.437119 -0.826218  0.072740  0.054652 -0.337765 -0.240402   \n",
       "0 -0.261078 -0.295898 -0.926620 -0.136804  0.444283  0.001758 -0.219223   \n",
       "\n",
       "        7         8         9      ...          146       147       148  \\\n",
       "0 -0.441376 -0.881760  0.016712    ...          NaN       NaN       NaN   \n",
       "0 -0.466385 -0.885071 -0.331343    ...          NaN       NaN       NaN   \n",
       "0 -0.280670 -0.942078 -0.093190    ...    -0.953079 -0.011912 -0.056439   \n",
       "\n",
       "        149       150       151       152       153       154       155  \n",
       "0       NaN       NaN       NaN       NaN       NaN       NaN       NaN  \n",
       "0       NaN       NaN       NaN       NaN       NaN       NaN       NaN  \n",
       "0  0.025329 -0.121628 -0.241913 -0.989105 -0.351775 -0.126696  0.013837  \n",
       "\n",
       "[3 rows x 156 columns]"
      ]
     },
     "execution_count": 139,
     "metadata": {},
     "output_type": "execute_result"
    }
   ],
   "source": [
    "df"
   ]
  },
  {
   "cell_type": "code",
   "execution_count": 37,
   "metadata": {},
   "outputs": [
    {
     "name": "stderr",
     "output_type": "stream",
     "text": [
      "/Users/kzahir/anaconda3/lib/python3.6/site-packages/pandas/core/frame.py:2754: SettingWithCopyWarning: \n",
      "A value is trying to be set on a copy of a slice from a DataFrame\n",
      "\n",
      "See the caveats in the documentation: http://pandas.pydata.org/pandas-docs/stable/indexing.html#indexing-view-versus-copy\n",
      "  downcast=downcast, **kwargs)\n"
     ]
    },
    {
     "data": {
      "text/plain": [
       "['model.pkl']"
      ]
     },
     "execution_count": 37,
     "metadata": {},
     "output_type": "execute_result"
    }
   ],
   "source": [
    "df = df[df.columns[0:120]]\n",
    "df.fillna(value=0, inplace=True)\n",
    "rn = RandomForestClassifier()\n",
    "model = rn.fit(df, y)\n",
    "joblib.dump(model, 'model.pkl') \n"
   ]
  },
  {
   "cell_type": "code",
   "execution_count": null,
   "metadata": {},
   "outputs": [],
   "source": []
  },
  {
   "cell_type": "code",
   "execution_count": null,
   "metadata": {},
   "outputs": [],
   "source": []
  },
  {
   "cell_type": "code",
   "execution_count": 92,
   "metadata": {},
   "outputs": [],
   "source": [
    "import numpy as np\n",
    "from sklearn.externals import joblib\n",
    "\n",
    "\n",
    "model = joblib.load('model.pkl') \n",
    "keys = list(r['data'].keys())\n",
    "payload=r['data'][keys[0]]\n",
    "x = []\n",
    "y=[]\n",
    "datapoints = payload['datapoints']\n",
    "for sample in datapoints:\n",
    "    x.append(sample['ax'])\n",
    "    x.append(sample['ay'])\n",
    "    x.append(sample['az'])\n",
    "    x.append(sample['gx'])\n",
    "    x.append(sample['gy'])\n",
    "    x.append(sample['gz'])\n",
    "x=x[0:120]\n",
    "y=payload['prediction']\n",
    "model.predict(np.array(x).reshape(1, -1))\n"
   ]
  },
  {
   "cell_type": "code",
   "execution_count": 121,
   "metadata": {},
   "outputs": [
    {
     "data": {
      "text/plain": [
       "array(['Motion 1'],\n",
       "      dtype='<U8')"
      ]
     },
     "execution_count": 121,
     "metadata": {},
     "output_type": "execute_result"
    }
   ],
   "source": []
  },
  {
   "cell_type": "code",
   "execution_count": null,
   "metadata": {},
   "outputs": [],
   "source": []
  },
  {
   "cell_type": "code",
   "execution_count": null,
   "metadata": {},
   "outputs": [],
   "source": []
  },
  {
   "cell_type": "code",
   "execution_count": null,
   "metadata": {},
   "outputs": [],
   "source": []
  },
  {
   "cell_type": "code",
   "execution_count": null,
   "metadata": {},
   "outputs": [],
   "source": []
  },
  {
   "cell_type": "code",
   "execution_count": null,
   "metadata": {
    "collapsed": true
   },
   "outputs": [],
   "source": []
  },
  {
   "cell_type": "code",
   "execution_count": null,
   "metadata": {
    "collapsed": true
   },
   "outputs": [],
   "source": []
  }
 ],
 "metadata": {
  "kernelspec": {
   "display_name": "Python 3",
   "language": "python",
   "name": "python3"
  },
  "language_info": {
   "codemirror_mode": {
    "name": "ipython",
    "version": 3
   },
   "file_extension": ".py",
   "mimetype": "text/x-python",
   "name": "python",
   "nbconvert_exporter": "python",
   "pygments_lexer": "ipython3",
   "version": "3.6.3"
  }
 },
 "nbformat": 4,
 "nbformat_minor": 2
}
